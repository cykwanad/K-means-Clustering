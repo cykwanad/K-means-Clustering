{
 "cells": [
  {
   "cell_type": "markdown",
   "metadata": {},
   "source": [
    "<h3 style = \"font-family: Cambria;\"> Data </h3>"
   ]
  },
  {
   "cell_type": "code",
   "execution_count": 1,
   "metadata": {},
   "outputs": [
    {
     "name": "stdout",
     "output_type": "stream",
     "text": [
      "           Inventory  Working Capital  Total Assets  Current Assets  \\\n",
      "Ticker                                                                \n",
      "A       8.626667e+08     1.985333e+09  1.028800e+10    3.664000e+09   \n",
      "AA      1.927000e+09     1.936000e+09  1.488033e+10    4.932000e+09   \n",
      "AAL     1.896000e+09    -4.457000e+09  6.439700e+10    1.456667e+10   \n",
      "AAN     7.530493e+08     5.378673e+08  1.551062e+09    8.538473e+08   \n",
      "AAON    1.371427e+08     1.653597e+08  6.376970e+08    2.624823e+08   \n",
      "...              ...              ...           ...             ...   \n",
      "ZIM     1.206457e+08     1.329239e+09  8.097114e+09    3.519343e+09   \n",
      "ZTO     5.885600e+07     8.905596e+09  6.683356e+10    2.182200e+10   \n",
      "ZTS     1.965333e+09     4.637667e+09  1.414467e+10    7.015667e+09   \n",
      "ZWS     2.895667e+08     5.038000e+08  2.522933e+09    8.322000e+08   \n",
      "ZYXI    1.095833e+07     5.373233e+07  1.073050e+08    7.175700e+07   \n",
      "\n",
      "        Current Liabilities  Cash And Cash Equivalents    Total Debt  \\\n",
      "Ticker                                                                 \n",
      "A              1.678667e+09               1.326000e+09  2.619000e+09   \n",
      "AA             2.996000e+09               1.594667e+09  2.118667e+09   \n",
      "AAL            1.902367e+10               3.193333e+08  4.362833e+10   \n",
      "AAN            3.159800e+08               4.222367e+07  4.461457e+08   \n",
      "AAON           9.712267e+07               2.911167e+07  3.801333e+07   \n",
      "...                     ...                        ...           ...   \n",
      "ZIM            2.190103e+09               1.045271e+09  3.163019e+09   \n",
      "ZTO            1.291641e+10               1.187559e+10  6.690729e+09   \n",
      "ZTS            2.378000e+09               3.553667e+09  7.398333e+09   \n",
      "ZWS            3.284000e+08               2.649333e+08  8.734000e+08   \n",
      "ZYXI           1.802467e+07               3.397633e+07  2.312600e+07   \n",
      "\n",
      "        Stockholders Equity  Invested Capital  Reconciled Cost Of Revenue  \\\n",
      "Ticker                                                                      \n",
      "A              5.189000e+09      7.808000e+09                2.846667e+09   \n",
      "AA             4.353000e+09      6.403333e+09                9.111333e+09   \n",
      "AAL           -6.668667e+09      2.877000e+10                3.145067e+10   \n",
      "AAN            7.082977e+08      7.924353e+08                6.141113e+08   \n",
      "AAON           4.592497e+08      4.962510e+08                4.505777e+08   \n",
      "...                     ...               ...                         ...   \n",
      "ZIM            3.582955e+09      3.944235e+09                3.835167e+09   \n",
      "ZTO            5.054820e+10      5.647359e+10                2.317712e+10   \n",
      "ZTS            4.239000e+09      1.147067e+10                1.977000e+09   \n",
      "ZWS            1.017467e+09      1.866867e+09                4.651500e+08   \n",
      "ZYXI           6.571267e+07      7.456733e+07                2.558100e+07   \n",
      "\n",
      "        Operating Revenue        Ebitda          Ebit  Interest Expense  \\\n",
      "Ticker                                                                    \n",
      "A            6.168667e+09  1.631667e+09  1.316333e+09      8.100000e+07   \n",
      "AA           1.129633e+10  1.485000e+09  8.403333e+08      1.490000e+08   \n",
      "AAL          2.948833e+10 -6.076667e+08 -2.942000e+09      1.663000e+09   \n",
      "AAN          1.943286e+09  5.039350e+08 -8.178200e+07      7.113667e+06   \n",
      "AAON         6.279003e+08  1.276063e+08  9.711300e+07      1.320000e+05   \n",
      "...                   ...           ...           ...               ...   \n",
      "ZIM          8.950733e+09  5.087100e+09  4.257233e+09      1.813667e+08   \n",
      "ZTO          3.009382e+10  8.715181e+09  6.470922e+09      1.174437e+08   \n",
      "ZTS          7.510333e+09  3.056667e+09  2.605333e+09      2.253333e+08   \n",
      "ZWS          8.663750e+08  1.605500e+08  8.915000e+07      3.787500e+07   \n",
      "ZYXI         1.228633e+08  2.072033e+07  1.839200e+07      1.846667e+05   \n",
      "\n",
      "        Gross Profit    Net Income      mean  count  \n",
      "Ticker                                               \n",
      "A       3.322000e+09  1.061000e+09  0.198417   12.0  \n",
      "AA      2.185000e+09  4.533333e+07  0.100000    5.0  \n",
      "AAL     6.126667e+08 -3.583667e+09  0.100000    1.0  \n",
      "AAN     1.134935e+09 -5.375267e+07  0.106500    8.0  \n",
      "AAON    1.770837e+08  7.938100e+07  0.132222    6.0  \n",
      "...              ...           ...       ...    ...  \n",
      "ZIM     4.452767e+09  3.259233e+09  5.341667    6.0  \n",
      "ZTO     7.155253e+09  5.292032e+09  0.266667    3.0  \n",
      "ZTS     5.239000e+09  1.929667e+09  0.258333   12.0  \n",
      "ZWS     3.536500e+08  1.202250e+08  0.068333   12.0  \n",
      "ZYXI    9.728233e+07  1.440833e+07  0.100000    1.0  \n",
      "\n",
      "[1152 rows x 18 columns]\n"
     ]
    }
   ],
   "source": [
    "import pandas, numpy, time\n",
    "\n",
    "data = pandas.read_csv(\"Data.csv\", index_col = \"Ticker\")\n",
    "\n",
    "data = data.dropna()\n",
    "\n",
    "print(data)"
   ]
  },
  {
   "cell_type": "markdown",
   "metadata": {},
   "source": [
    "<h3 style = \"font-family: Cambria;\"> Normalization </h3>"
   ]
  },
  {
   "cell_type": "code",
   "execution_count": 2,
   "metadata": {},
   "outputs": [
    {
     "name": "stdout",
     "output_type": "stream",
     "text": [
      "              0         1             2         3             4   \\\n",
      "Ticker                                                             \n",
      "A       0.000102  0.489336  3.866041e-05  0.000067  2.423393e-05   \n",
      "AA      0.000228  0.489335  5.594979e-05  0.000091  4.328614e-05   \n",
      "AAL     0.000225  0.489124  2.423718e-04  0.000268  2.750896e-04   \n",
      "AAN     0.000089  0.489289  5.767295e-06  0.000016  4.525782e-06   \n",
      "AAON    0.000016  0.489276  2.328629e-06  0.000005  1.360512e-06   \n",
      "...          ...       ...           ...       ...           ...   \n",
      "ZIM     0.000014  0.489315  3.041209e-05  0.000065  3.163069e-05   \n",
      "ZTO     0.000007  0.489564  2.515450e-04  0.000402  1.867621e-04   \n",
      "ZTS     0.000233  0.489424  5.318012e-05  0.000129  3.434818e-05   \n",
      "ZWS     0.000034  0.489287  9.426230e-06  0.000015  4.705409e-06   \n",
      "ZYXI    0.000001  0.489273  3.317910e-07  0.000001  2.165405e-07   \n",
      "\n",
      "                  5             6         7             8             9   \\\n",
      "Ticker                                                                     \n",
      "A       4.378786e-05  3.058030e-05  0.000183  4.677310e-05  5.591850e-05   \n",
      "AA      5.265992e-05  2.473819e-05  0.000176  3.834755e-05  1.790786e-04   \n",
      "AAL     1.054516e-05  5.094232e-04  0.000083  1.725086e-04  6.182584e-04   \n",
      "AAN     1.394289e-06  5.209107e-06  0.000145  4.691915e-06  1.202761e-05   \n",
      "AAON    9.612976e-07  4.435760e-07  0.000143  2.915324e-06  8.812620e-06   \n",
      "...              ...           ...       ...           ...           ...   \n",
      "ZIM     3.451749e-05  3.693250e-05  0.000170  2.359723e-05  7.535190e-05   \n",
      "ZTO     3.921623e-04  7.812359e-05  0.000569  3.386820e-04  4.556048e-04   \n",
      "ZTS     1.173511e-04  8.638589e-05  0.000175  6.874273e-05  3.882130e-05   \n",
      "ZWS     8.748731e-06  1.019792e-05  0.000148  1.113663e-05  9.099105e-06   \n",
      "ZYXI    1.121941e-06  2.697450e-07  0.000140  3.859557e-07  4.574041e-07   \n",
      "\n",
      "                  10        11        12            13        14        15  \\\n",
      "Ticker                                                                       \n",
      "A       4.325541e-05  0.000088  0.000307  1.628972e-05  0.000072  0.003154   \n",
      "AA      7.928430e-05  0.000086  0.000296  2.996505e-05  0.000061  0.003109   \n",
      "AAL     2.071080e-04  0.000058  0.000211  3.344421e-04  0.000045  0.002946   \n",
      "AAN     1.356632e-05  0.000073  0.000275  1.430613e-06  0.000050  0.003104   \n",
      "AAON    4.323937e-06  0.000068  0.000279  2.654622e-08  0.000041  0.003110   \n",
      "...              ...       ...       ...           ...       ...       ...   \n",
      "ZIM     6.280325e-05  0.000134  0.000374  3.647423e-05  0.000084  0.003253   \n",
      "ZTO     2.113624e-04  0.000182  0.000424  2.361883e-05  0.000111  0.003344   \n",
      "ZTS     5.268246e-05  0.000107  0.000336  4.531627e-05  0.000091  0.003193   \n",
      "ZWS     5.999548e-06  0.000068  0.000279  7.616954e-06  0.000043  0.003112   \n",
      "ZYXI    7.753596e-07  0.000067  0.000278  3.713789e-08  0.000040  0.003107   \n",
      "\n",
      "              16        17  \n",
      "Ticker                      \n",
      "A       0.006213  0.314286  \n",
      "AA      0.003100  0.114286  \n",
      "AAL     0.003100  0.000000  \n",
      "AAN     0.003305  0.200000  \n",
      "AAON    0.004119  0.142857  \n",
      "...          ...       ...  \n",
      "ZIM     0.168897  0.142857  \n",
      "ZTO     0.008372  0.057143  \n",
      "ZTS     0.008108  0.314286  \n",
      "ZWS     0.002098  0.314286  \n",
      "ZYXI    0.003100  0.000000  \n",
      "\n",
      "[1152 rows x 18 columns]\n"
     ]
    }
   ],
   "source": [
    "from sklearn.preprocessing import MinMaxScaler\n",
    "\n",
    "train = MinMaxScaler().fit_transform(data)\n",
    "\n",
    "train = pandas.DataFrame(train, index = data.index)\n",
    "\n",
    "print(train)"
   ]
  },
  {
   "cell_type": "markdown",
   "metadata": {},
   "source": [
    "<h3 style = \"font-family: Cambria;\"> Frank-wolfe Algorithm </h3>"
   ]
  },
  {
   "cell_type": "code",
   "execution_count": 3,
   "metadata": {},
   "outputs": [],
   "source": [
    "def matrix_y(mat_xtx, mat_xxz, mat_zzt, mat_y):\n",
    "\n",
    "    index = numpy.arange(mat_y.shape[1])\n",
    "\n",
    "    for i in range(100):\n",
    "\n",
    "        gamma = 2 * ((i + 2) ** -1)\n",
    "        \n",
    "        mat_g = 2 * (numpy.dot(numpy.dot(mat_xtx, mat_y), mat_zzt) - mat_xxz) - numpy.log(mat_y, where = mat_y > 0)\n",
    "\n",
    "        argmn = numpy.argmin(mat_g, axis = 0)\n",
    "\n",
    "        mat_y = mat_y * (1 - gamma)\n",
    "\n",
    "        mat_y[argmn,index] = mat_y[argmn,index] + gamma\n",
    "        \n",
    "    return mat_y"
   ]
  },
  {
   "cell_type": "code",
   "execution_count": 4,
   "metadata": {},
   "outputs": [],
   "source": [
    "def matrix_z(mat_mtm, mat_mtx, mat_z):\n",
    "\n",
    "    index = numpy.arange(mat_z.shape[1])\n",
    "\n",
    "    for i in range(100):\n",
    "\n",
    "        gamma = 2 * ((i + 2) ** -1)\n",
    "\n",
    "        mat_g = numpy.dot(mat_mtm, mat_z) - mat_mtx\n",
    "\n",
    "        argmn = numpy.argmin(mat_g, axis = 0)\n",
    "        \n",
    "        mat_z = mat_z * (1 - gamma)\n",
    "\n",
    "        mat_z[argmn,index] = mat_z[argmn,index] + gamma\n",
    "\n",
    "    return mat_z"
   ]
  },
  {
   "cell_type": "markdown",
   "metadata": {},
   "source": [
    "<h3 style = \"font-family: Cambria;\"> Archetypal Analysis for K-means Clustering </h3>"
   ]
  },
  {
   "cell_type": "code",
   "execution_count": 5,
   "metadata": {},
   "outputs": [],
   "source": [
    "def archetypal_analysis(mat_x, k):\n",
    "\n",
    "    mat_m = mat_x[:,numpy.random.choice(mat_x.shape[1], k, replace = False)] # m, n = mat_x.shape\n",
    "\n",
    "    mat_y = numpy.zeros((mat_x.shape[1], k)); mat_y[0] = 1\n",
    "\n",
    "    mat_z = numpy.zeros((k, mat_x.shape[1])); mat_z[0] = 1\n",
    "\n",
    "    error = numpy.inf\n",
    "    \n",
    "    m_xtx = numpy.dot(numpy.transpose(mat_x), mat_x)\n",
    "    \n",
    "    for i in range(300):\n",
    "        \n",
    "        mat_mtm, mat_mtx = numpy.dot(numpy.transpose(mat_m), mat_m), numpy.dot(numpy.transpose(mat_m), mat_x)\n",
    "\n",
    "        mat_z = matrix_z(mat_mtm, mat_mtx, mat_z)\n",
    "\n",
    "        mat_zzt, mat_xxz = numpy.dot(mat_z, numpy.transpose(mat_z)), numpy.dot(m_xtx, numpy.transpose(mat_z))\n",
    "        \n",
    "        mat_y = matrix_y(m_xtx, mat_xxz, mat_zzt, mat_y)\n",
    "\n",
    "        mat_m = numpy.dot(mat_x, mat_y)\n",
    "\n",
    "        if numpy.abs(error - numpy.linalg.norm(mat_x - numpy.dot(mat_m, mat_z))) < 10 ** -5:\n",
    "\n",
    "            break\n",
    "        \n",
    "        error = numpy.linalg.norm(mat_x - numpy.dot(mat_m, mat_z))\n",
    "\n",
    "    mat_mtm, mat_mtx = numpy.dot(numpy.transpose(mat_m), mat_m), numpy.dot(numpy.transpose(mat_m), mat_x)\n",
    "    \n",
    "    mat_z = matrix_z(mat_mtm, mat_mtx, mat_z)\n",
    "\n",
    "    return mat_m, mat_y, mat_z"
   ]
  },
  {
   "cell_type": "markdown",
   "metadata": {},
   "source": [
    "<h3 style = \"font-family: Cambria;\"> Result </h3>"
   ]
  },
  {
   "cell_type": "code",
   "execution_count": 6,
   "metadata": {},
   "outputs": [],
   "source": [
    "length, result = time.time(), {}\n",
    "\n",
    "for i in range(500):\n",
    "    \n",
    "    temps = archetypal_analysis(numpy.array(numpy.transpose(train)), 7)[2]\n",
    "\n",
    "    index = numpy.argmax(temps, axis = 0)\n",
    "\n",
    "    dataframes = pandas.concat([train, pandas.DataFrame(index, columns = [\"Clusters\"], index = train.index)], axis = 1)\n",
    "    \n",
    "    dataframes = dataframes.groupby(\"Clusters\").var(ddof = 0)\n",
    "\n",
    "    count = numpy.unique(index, return_counts = True)[1]\n",
    "\n",
    "    result[i] = [numpy.sum(count @ dataframes), index]\n",
    "\n",
    "length = time.time() - length"
   ]
  },
  {
   "cell_type": "code",
   "execution_count": 7,
   "metadata": {},
   "outputs": [
    {
     "name": "stdout",
     "output_type": "stream",
     "text": [
      "        Clusters\n",
      "Ticker          \n",
      "A              5\n",
      "AA             4\n",
      "AAL            4\n",
      "AAN            4\n",
      "AAON           4\n",
      "...          ...\n",
      "ZIM            0\n",
      "ZTO            4\n",
      "ZTS            5\n",
      "ZWS            5\n",
      "ZYXI           4\n",
      "\n",
      "[1152 rows x 1 columns]\n"
     ]
    }
   ],
   "source": [
    "index = numpy.argmin([result[i][0] for i in result])\n",
    "\n",
    "colum = [\"Clusters\"]\n",
    "\n",
    "frame = pandas.DataFrame(result[index][1], columns = colum, index = train.index)\n",
    "\n",
    "print(frame)"
   ]
  },
  {
   "cell_type": "code",
   "execution_count": null,
   "metadata": {},
   "outputs": [],
   "source": []
  }
 ],
 "metadata": {
  "kernelspec": {
   "display_name": "Python 3",
   "language": "python",
   "name": "python3"
  },
  "language_info": {
   "codemirror_mode": {
    "name": "ipython",
    "version": 3
   },
   "file_extension": ".py",
   "mimetype": "text/x-python",
   "name": "python",
   "nbconvert_exporter": "python",
   "pygments_lexer": "ipython3",
   "version": "3.11.5"
  }
 },
 "nbformat": 4,
 "nbformat_minor": 2
}
